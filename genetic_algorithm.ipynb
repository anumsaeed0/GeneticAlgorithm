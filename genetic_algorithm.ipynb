{
  "nbformat": 4,
  "nbformat_minor": 0,
  "metadata": {
    "colab": {
      "provenance": []
    },
    "kernelspec": {
      "name": "python3",
      "display_name": "Python 3"
    },
    "language_info": {
      "name": "python"
    }
  },
  "cells": [
    {
      "cell_type": "markdown",
      "source": [
        "# **Genetic Algorithm**\n",
        "---\n",
        " 1.  *User input function (No of chromosomes, No of variables [x, y, z], Goal, No of iterations, Acceptable range, Mathematical expression or Function, Max power, Coefficient)*\n",
        " 2.  *Goal Condition (User input, Sort the list based on the closeness to the goal)*\n",
        " 3.  *Stopping Criteria (Fixed iterations,  Goal Reached, Error is in acceptable range (Fitness value closer to goal within a certain range), No new Child (Redundant Fitness values))*\n",
        " 4.  *Crossover and Mutation*\n",
        "\n"
      ],
      "metadata": {
        "id": "GwATXORNJY25"
      }
    },
    {
      "cell_type": "markdown",
      "source": [
        "### **Importing random library to generate randomize chromosomes**"
      ],
      "metadata": {
        "id": "7Mov_l-J2XKY"
      }
    },
    {
      "cell_type": "code",
      "source": [
        "import random"
      ],
      "metadata": {
        "id": "jyglEkSi1VET"
      },
      "execution_count": null,
      "outputs": []
    },
    {
      "cell_type": "markdown",
      "source": [
        "### **Genetic Algorithm Function**"
      ],
      "metadata": {
        "id": "7evSAGcv2T5x"
      }
    },
    {
      "cell_type": "code",
      "source": [
        "def Gen_Algo(chrs, Goal, Func, vars):\n",
        "    Fitness = fitness_cal(chrs, Goal, Func, vars)\n",
        "    return Fitness"
      ],
      "metadata": {
        "id": "h2PSb0Ob1Y0-"
      },
      "execution_count": null,
      "outputs": []
    },
    {
      "cell_type": "markdown",
      "source": [
        "### **Fitness Calculation Function**\n"
      ],
      "metadata": {
        "id": "Nu1yrQpi2KUt"
      }
    },
    {
      "cell_type": "code",
      "source": [
        "def fitness_cal(chrs, Goal, Func, variables):\n",
        "    Fitness = {}\n",
        "    count = 0\n",
        "    for chr in chrs:\n",
        "        count += 1\n",
        "        values = chrs[chr]\n",
        "        for name, value in zip(variables, values):\n",
        "            exec(f\"{name} = {value}\")\n",
        "        Fitness[f\"F{count}\"] = [eval(Func)]\n",
        "\n",
        "    Fitness_sorted = dict(sorted(Fitness.items(), key=lambda item: abs(item[1][0] - Goal)))\n",
        "    return Fitness_sorted"
      ],
      "metadata": {
        "id": "9nd2Pi781dnD"
      },
      "execution_count": null,
      "outputs": []
    },
    {
      "cell_type": "markdown",
      "source": [
        "### **Regenerating Chromosomes that are not Fittest by Mutation or Random Method**\n"
      ],
      "metadata": {
        "id": "KEHE4PzY2HFF"
      }
    },
    {
      "cell_type": "code",
      "source": [
        "def regeneration_by_Mutation(chromosomes, fittest_indices, non_fittest_indices, n_v):\n",
        "    updated_chromosomes = {}\n",
        "\n",
        "    for key, value in chromosomes.items():\n",
        "        if key[1] in non_fittest_indices:\n",
        "            new_value = []\n",
        "\n",
        "            for item in range(len(value)):\n",
        "                random_op = random.choice(['+', '-', '*', '/', \"avg\"])\n",
        "                if random_op == \"+\":\n",
        "                    new_value.append(int(Chromosomes[f\"C{fittest_indices[0]}\"][item] + Chromosomes[f\"C{fittest_indices[1]}\"][item]))\n",
        "                elif random_op == \"-\":\n",
        "                    new_value.append(int(Chromosomes[f\"C{fittest_indices[0]}\"][item] - Chromosomes[f\"C{fittest_indices[1]}\"][item]))\n",
        "                elif random_op == \"*\":\n",
        "                    new_value.append(int(Chromosomes[f\"C{fittest_indices[0]}\"][item] * Chromosomes[f\"C{fittest_indices[1]}\"][item]))\n",
        "                elif random_op == \"/\":\n",
        "                    new_value.append(int(Chromosomes[f\"C{fittest_indices[0]}\"][item] / Chromosomes[f\"C{fittest_indices[1]}\"][item]))\n",
        "                else:\n",
        "                    new_value.append(int((Chromosomes[f\"C{fittest_indices[0]}\"][item] + Chromosomes[f\"C{fittest_indices[1]}\"][item])/2))\n",
        "\n",
        "            updated_chromosomes[key] = new_value\n",
        "\n",
        "    return updated_chromosomes"
      ],
      "metadata": {
        "id": "MY6kF76o1vZD"
      },
      "execution_count": null,
      "outputs": []
    },
    {
      "cell_type": "markdown",
      "source": [
        "### **Regenerating Chromosomes that are not Fittest by Crossing Over the Variable values of Fittest Chromosomes**\n"
      ],
      "metadata": {
        "id": "48E6bGUn2Bdm"
      }
    },
    {
      "cell_type": "code",
      "source": [
        "def regeneration_by_crossover(chromosomes, fittest_indices, non_fittest_indices, n_v):\n",
        "    crossover_point = int(n_v/2)\n",
        "\n",
        "    new_chromosomes = {}\n",
        "\n",
        "    for key, value in chromosomes.items():\n",
        "        new_values = []\n",
        "        if key[1] in fittest_indices:\n",
        "            new_chromosomes[key] = value\n",
        "        else:\n",
        "\n",
        "            while True:\n",
        "                partner_key1 = random.choice([k for k in chromosomes.keys() if (k[1] in fittest_indices)])\n",
        "                new_values.extend(chromosomes[partner_key1][:crossover_point])\n",
        "\n",
        "                partner_key2 = random.choice([k for k in chromosomes.keys() if (k[1] in fittest_indices) and (k[1] != partner_key1[1])])\n",
        "                new_values.extend(chromosomes[partner_key2][crossover_point:])\n",
        "\n",
        "                new_key = key[0]+key[1]\n",
        "                if new_key not in new_chromosomes:\n",
        "                    break\n",
        "\n",
        "            new_chromosomes[new_key] = new_values\n",
        "\n",
        "    return new_chromosomes"
      ],
      "metadata": {
        "id": "OWjY6iXt10DD"
      },
      "execution_count": null,
      "outputs": []
    },
    {
      "cell_type": "markdown",
      "source": [
        "### **User-defined mathematical expression is generated**\n"
      ],
      "metadata": {
        "id": "UTOTLlTE15Ml"
      }
    },
    {
      "cell_type": "code",
      "source": [
        "def custom_func(vars):\n",
        "    expression = \"\"\n",
        "    var_list = []\n",
        "    for i in range(vars+1):\n",
        "        var = input(f\"\\n\\nEnter the variable {i+1}: \")\n",
        "        power = int(input(f\"Enter power of variable {i+1}: \"))\n",
        "        coeff = int(input(f\"Enter coefficient of variable {i+1}: \"))\n",
        "\n",
        "        term = f\"{coeff}*({var}**{power})\" if power != 0 else str(coeff)\n",
        "\n",
        "        if power != 0:\n",
        "          operator = input(f\"Enter the operator between variable {i+1} and {i+2}: \")\n",
        "\n",
        "          expression += term + operator\n",
        "          var_list.append(var)\n",
        "        else:\n",
        "          expression += term\n",
        "\n",
        "    return expression, var_list"
      ],
      "metadata": {
        "id": "3Ns9mnjy13oW"
      },
      "execution_count": null,
      "outputs": []
    },
    {
      "cell_type": "markdown",
      "source": [
        "## **Main Program**\n",
        "---"
      ],
      "metadata": {
        "id": "a_8CGplW2ml8"
      }
    },
    {
      "cell_type": "markdown",
      "source": [
        "### Initializing/Generating chromosomes on random basis"
      ],
      "metadata": {
        "id": "4AUljZmO34lB"
      }
    },
    {
      "cell_type": "code",
      "source": [
        "Chromosomes = dict()\n",
        "\n",
        "n_c = int(input(\"Enter No of chromosomes : \"))\n",
        "n_v = int(input(\"Enter number of variables for each chromosome : \"))\n",
        "\n",
        "# Generating Chromosomes on Random basis\n",
        "for item in range(n_c):\n",
        "    Chromosomes[f\"C{item+1}\"] = []\n",
        "    for item_sub in range(n_v):\n",
        "        a=int(random.randint(-10, 10))\n",
        "        Chromosomes[f\"C{item+1}\"].append(a)"
      ],
      "metadata": {
        "id": "5dWk14SVI3or",
        "colab": {
          "base_uri": "https://localhost:8080/"
        },
        "outputId": "accb5134-44cd-4d5c-c8f0-10a0e129859b"
      },
      "execution_count": null,
      "outputs": [
        {
          "name": "stdout",
          "output_type": "stream",
          "text": [
            "Enter No of chromosomes : 4\n",
            "Enter number of variables for each chromosome : 2\n"
          ]
        }
      ]
    },
    {
      "cell_type": "markdown",
      "source": [
        "### Initial Chromosomes"
      ],
      "metadata": {
        "id": "uKehRZbZ4Dly"
      }
    },
    {
      "cell_type": "code",
      "source": [
        "print(\"\\nInitial Chromosomes:\", Chromosomes, end=\"\\n\\n\")"
      ],
      "metadata": {
        "colab": {
          "base_uri": "https://localhost:8080/"
        },
        "id": "aB_tVILh3zAr",
        "outputId": "e44dd53b-34c5-4318-c978-b4d6eaeff2e8"
      },
      "execution_count": null,
      "outputs": [
        {
          "output_type": "stream",
          "name": "stdout",
          "text": [
            "\n",
            "Initial Chromosomes: {'C1': [-10, -5], 'C2': [-2, -3], 'C3': [-9, 9], 'C4': [1, -5]}\n",
            "\n"
          ]
        }
      ]
    },
    {
      "cell_type": "markdown",
      "source": [
        "### Declaration of Variables"
      ],
      "metadata": {
        "id": "5K3qDerh4Qv8"
      }
    },
    {
      "cell_type": "code",
      "source": [
        "Fitness_Record = {}\n",
        "\n",
        "count = 0"
      ],
      "metadata": {
        "id": "DxFJ5SBc4PX7"
      },
      "execution_count": null,
      "outputs": []
    },
    {
      "cell_type": "markdown",
      "source": [
        "### Input Objective/Fitness Function"
      ],
      "metadata": {
        "id": "V8RLgDs94GV3"
      }
    },
    {
      "cell_type": "code",
      "source": [
        "# User Input functions\n",
        "Goal = int(input(\"Enter the Goal: \"))\n",
        "No_of_iter = int(input(\"Enter the No. of Iterations: \"))\n",
        "closeness = int(input(\"Enter the Range Value for closeness: \"))\n",
        "\n",
        "# Returns the mathematical expressiona and variables\n",
        "Func, vars = custom_func(n_v)"
      ],
      "metadata": {
        "colab": {
          "base_uri": "https://localhost:8080/"
        },
        "id": "ZG0IKcv_3wnK",
        "outputId": "bc425402-ff49-4804-e8b0-b812d6326f75"
      },
      "execution_count": null,
      "outputs": [
        {
          "name": "stdout",
          "output_type": "stream",
          "text": [
            "Enter the Goal: 120\n",
            "Enter the No. of Iterations: 5\n",
            "Enter the Range Value for closeness: 10\n",
            "\n",
            "\n",
            "Enter the variable 1: x\n",
            "Enter power of variable 1: 3\n",
            "Enter coefficient of variable 1: -3\n",
            "Enter the operator between variable 1 and 2: +\n",
            "\n",
            "\n",
            "Enter the variable 2: y\n",
            "Enter power of variable 2: 2\n",
            "Enter coefficient of variable 2: 7\n",
            "Enter the operator between variable 2 and 3: +\n",
            "\n",
            "\n",
            "Enter the variable 3: z\n",
            "Enter power of variable 3: 0\n",
            "Enter coefficient of variable 3: 15\n"
          ]
        }
      ]
    },
    {
      "cell_type": "code",
      "source": [
        "print(f\"Fitness or Objective Function : {Func}\")\n",
        "# example expression\n",
        "# { -3*((x)**3))+7*((y)**2)+15 }"
      ],
      "metadata": {
        "colab": {
          "base_uri": "https://localhost:8080/"
        },
        "id": "HydColUV5Cn4",
        "outputId": "4f9d529d-828b-4bd1-91a6-fcd00477562a"
      },
      "execution_count": null,
      "outputs": [
        {
          "output_type": "stream",
          "name": "stdout",
          "text": [
            "Fitness or Objective Function : -3*(x**3)+7*(y**2)+15\n"
          ]
        }
      ]
    },
    {
      "cell_type": "code",
      "source": [
        "print(vars)"
      ],
      "metadata": {
        "id": "ADP37erG6Ux9",
        "outputId": "24559f4b-822e-4841-8383-f5c3fed98356",
        "colab": {
          "base_uri": "https://localhost:8080/"
        }
      },
      "execution_count": null,
      "outputs": [
        {
          "output_type": "stream",
          "name": "stdout",
          "text": [
            "['x', 'y']\n"
          ]
        }
      ]
    },
    {
      "cell_type": "markdown",
      "source": [
        "### Running Genetic Algorithm and for regeneration crossing over and mutation is used"
      ],
      "metadata": {
        "id": "fKSqe0hM4efe"
      }
    },
    {
      "cell_type": "code",
      "source": [
        "# loop that stops when no of iterations complete\n",
        "while count != No_of_iter:\n",
        "    Fitness = Gen_Algo(Chromosomes, Goal, Func, vars)\n",
        "\n",
        "    print(\"Fitness Values : \", Fitness)\n",
        "\n",
        "    print(\"Fitness Record : \", Fitness_Record, end= \"\\n\\n\")\n",
        "\n",
        "    if Goal in Fitness.values():\n",
        "        print(\"\\nReached the goal.\")\n",
        "        break\n",
        "\n",
        "    elif any((Goal - closeness) <= list(Fitness.values())[0][0] <= (Goal + closeness) for value in Fitness.values()):\n",
        "        print(\"\\nNearer to the goal.\")\n",
        "        break\n",
        "\n",
        "    elif any(value[0] in [record_value[0] for record_value in Fitness_Record.values()] for value in Fitness.values()):\n",
        "        print(\"\\nThe Fitness values are redundant.\")\n",
        "        break\n",
        "\n",
        "    else:\n",
        "        alpha = []\n",
        "\n",
        "        for each in Fitness:\n",
        "            alpha.append(each[1])\n",
        "\n",
        "        out = len(Chromosomes)\n",
        "        avg = int(out/2)\n",
        "        not_fit = alpha[avg:]\n",
        "        fit_index = alpha[:avg]\n",
        "\n",
        "        # Regeneration by both methods MUTATION & CROSSING OVER\n",
        "\n",
        "        # new_chromosomes = regeneration_by_Mutation(Chromosomes, fit_index, not_fit, n_v)\n",
        "        new_chromosomes = regeneration_by_crossover(Chromosomes, fit_index, not_fit, n_v)\n",
        "\n",
        "        Chromosomes.update(new_chromosomes)\n",
        "\n",
        "        print(\"After Regeneration:\", Chromosomes, end= \"\\n\\n\")\n",
        "\n",
        "    if len(Fitness_Record) == 0:\n",
        "        Fitness_Record = Fitness\n",
        "    else:\n",
        "        cnt = 0\n",
        "        for key, value in Fitness.items():\n",
        "            cnt += 1\n",
        "            Fitness_Record[f\"F{cnt}\"].extend(value)\n",
        "\n",
        "        count += 1\n",
        "else:\n",
        "    print(\"\\nGoal not reached.\")"
      ],
      "metadata": {
        "colab": {
          "base_uri": "https://localhost:8080/"
        },
        "id": "iKR93uRJ4uqD",
        "outputId": "6b3ca21e-c14f-4abc-b8d1-541294f01c40"
      },
      "execution_count": null,
      "outputs": [
        {
          "output_type": "stream",
          "name": "stdout",
          "text": [
            "Fitness Values :  {'F2': [102], 'F4': [187], 'F3': [2769], 'F1': [3190]}\n",
            "Fitness Record :  {}\n",
            "\n",
            "After Regeneration: {'C1': [1, -3], 'C2': [-2, -3], 'C3': [1, -3], 'C4': [1, -5]}\n",
            "\n",
            "Fitness Values :  {'F2': [102], 'F1': [75], 'F3': [75], 'F4': [187]}\n",
            "Fitness Record :  {'F2': [102], 'F4': [187], 'F3': [2769], 'F1': [3190]}\n",
            "\n",
            "\n",
            "The Fitness values are redundant.\n"
          ]
        }
      ]
    },
    {
      "cell_type": "code",
      "source": [
        "import random\n",
        "\n",
        "# Genetic Algorithm Function\n",
        "def Gen_Algo(chrs, Goal, Func, vars):\n",
        "    Fitness = fitness_cal(chrs, Goal, Func, vars)\n",
        "    return Fitness\n",
        "\n",
        "# Fitness Calculation Function\n",
        "def fitness_cal(chrs, Goal, Func, variables):\n",
        "    Fitness = {}\n",
        "    count = 0\n",
        "    for chr in chrs:\n",
        "        count += 1\n",
        "        values = chrs[chr]\n",
        "        for name, value in zip(variables, values):\n",
        "            exec(f\"{name} = {value}\")\n",
        "        Fitness[f\"F{count}\"] = [eval(Func)]\n",
        "\n",
        "    Fitness_sorted = dict(sorted(Fitness.items(), key=lambda item: abs(item[1][0] - Goal)))\n",
        "    return Fitness_sorted\n",
        "\n",
        "# Regenerating Chromosomes that are not Fittest by Mutation or Random Method\n",
        "def regeneration_by_Mutation(chromosomes, fittest_indices, non_fittest_indices, n_v):\n",
        "    updated_chromosomes = {}\n",
        "\n",
        "    for key, value in chromosomes.items():\n",
        "        if key[1] in non_fittest_indices:\n",
        "            new_value = []\n",
        "\n",
        "            for item in range(len(value)):\n",
        "                random_op = random.choice(['+', '-', '*', '/', \"avg\"])\n",
        "                if random_op == \"+\":\n",
        "                    new_value.append(int(Chromosomes[f\"C{fittest_indices[0]}\"][item] + Chromosomes[f\"C{fittest_indices[1]}\"][item]))\n",
        "                elif random_op == \"-\":\n",
        "                    new_value.append(int(Chromosomes[f\"C{fittest_indices[0]}\"][item] - Chromosomes[f\"C{fittest_indices[1]}\"][item]))\n",
        "                elif random_op == \"*\":\n",
        "                    new_value.append(int(Chromosomes[f\"C{fittest_indices[0]}\"][item] * Chromosomes[f\"C{fittest_indices[1]}\"][item]))\n",
        "                elif random_op == \"/\":\n",
        "                    new_value.append(int(Chromosomes[f\"C{fittest_indices[0]}\"][item] / Chromosomes[f\"C{fittest_indices[1]}\"][item]))\n",
        "                else:\n",
        "                    new_value.append(int((Chromosomes[f\"C{fittest_indices[0]}\"][item] + Chromosomes[f\"C{fittest_indices[1]}\"][item])/2))\n",
        "\n",
        "            updated_chromosomes[key] = new_value\n",
        "\n",
        "    return updated_chromosomes\n",
        "\n",
        "# Regenerating Chromosomes that are not Fittest by Crossing Over the Variable values of Fittest Chromosomes\n",
        "def regeneration_by_crossover(chromosomes, fittest_indices, non_fittest_indices, n_v):\n",
        "    crossover_point = int(n_v/2)\n",
        "\n",
        "    new_chromosomes = {}\n",
        "\n",
        "    for key, value in chromosomes.items():\n",
        "        new_values = []\n",
        "        if key[1] in fittest_indices:\n",
        "            new_chromosomes[key] = value\n",
        "        else:\n",
        "\n",
        "            while True:\n",
        "                partner_key1 = random.choice([k for k in chromosomes.keys() if (k[1] in fittest_indices)])\n",
        "                new_values.extend(chromosomes[partner_key1][:crossover_point])\n",
        "\n",
        "                partner_key2 = random.choice([k for k in chromosomes.keys() if (k[1] in fittest_indices) and (k[1] != partner_key1[1])])\n",
        "                new_values.extend(chromosomes[partner_key2][crossover_point:])\n",
        "\n",
        "                new_key = key[0]+key[1]\n",
        "                if new_key not in new_chromosomes:\n",
        "                    break\n",
        "\n",
        "            new_chromosomes[new_key] = new_values\n",
        "\n",
        "    return new_chromosomes\n",
        "\n",
        "# User-defined mathematical expression\n",
        "def custom_func(vars):\n",
        "    expression = \"\"\n",
        "    var_list = []\n",
        "    for i in range(vars+1):\n",
        "        var = input(f\"\\n\\nEnter the variable {i+1}: \")\n",
        "        power = int(input(f\"Enter power of variable {i+1}: \"))\n",
        "        coeff = int(input(f\"Enter coefficient of variable {i+1}: \"))\n",
        "        operator = input(f\"Enter the operator between variable {i+1} and {i+2}: \")\n",
        "\n",
        "        term = f\"{coeff}*({var}**{power})\" if power != 0 else str(coeff)\n",
        "        expression += term + operator\n",
        "\n",
        "        if power != 0:\n",
        "          var_list.append(var)\n",
        "\n",
        "    return expression, var_list\n",
        "\n",
        "# Main Program\n",
        "Chromosomes = dict()\n",
        "\n",
        "n_c = int(input(\"Enter No of chromosomes : \"))\n",
        "n_v = int(input(\"Enter number of variables for each chromosome : \"))\n",
        "\n",
        "# Generating Chromosomes on Random basis\n",
        "for item in range(n_c):\n",
        "    Chromosomes[f\"C{item+1}\"] = []\n",
        "    for item_sub in range(n_v):\n",
        "        a=int(random.randint(-10, 10))\n",
        "        Chromosomes[f\"C{item+1}\"].append(a)\n",
        "\n",
        "print(\"\\nInitial Chromosomes:\", Chromosomes, end=\"\\n\\n\")\n",
        "\n",
        "# User Input functions\n",
        "Goal = int(input(\"Enter the Goal: \"))\n",
        "No_of_iter = int(input(\"Enter the No. of Iterations: \"))\n",
        "closeness = int(input(\"Enter the Range Value for closeness: \"))\n",
        "\n",
        "Fitness_Record = {}\n",
        "\n",
        "count = 0\n",
        "\n",
        "# Returns the mathematical expressiona and variables\n",
        "Func, vars = custom_func(n_v)\n",
        "\n",
        "# loop that stops when no of iterations complete\n",
        "while count != No_of_iter:\n",
        "    Fitness = Gen_Algo(Chromosomes, Goal, Func, vars)\n",
        "\n",
        "    print(\"Fitness Values : \", Fitness)\n",
        "\n",
        "    print(\"Fitness Record : \", Fitness_Record, end= \"\\n\\n\")\n",
        "\n",
        "    if Goal in Fitness.values():\n",
        "        print(\"\\nReached the goal.\")\n",
        "        break\n",
        "\n",
        "    elif any((Goal - closeness) <= list(Fitness.values())[0][0] <= (Goal + closeness) for value in Fitness.values()):\n",
        "        print(\"\\nNearer to the goal.\")\n",
        "        break\n",
        "\n",
        "    elif any(value[0] in [record_value[0] for record_value in Fitness_Record.values()] for value in Fitness.values()):\n",
        "        print(\"\\nThe Fitness values are redundant.\")\n",
        "        break\n",
        "\n",
        "    else:\n",
        "        alpha = []\n",
        "\n",
        "        for each in Fitness:\n",
        "            alpha.append(each[1])\n",
        "\n",
        "        out = len(Chromosomes)\n",
        "        avg = int(out/2)\n",
        "        not_fit = alpha[avg:]\n",
        "        fit_index = alpha[:avg]\n",
        "\n",
        "        # Regeneration by both metjods MUTATION & CROSSING OVER\n",
        "\n",
        "        # new_chromosomes = regeneration_by_Mutation(Chromosomes, fit_index, not_fit, n_v)\n",
        "        new_chromosomes = regeneration_by_crossover(Chromosomes, fit_index, not_fit, n_v)\n",
        "\n",
        "        Chromosomes.update(new_chromosomes)\n",
        "\n",
        "        print(\"After Regeneration:\", Chromosomes, end= \"\\n\\n\")\n",
        "\n",
        "    if len(Fitness_Record) == 0:\n",
        "        Fitness_Record = Fitness\n",
        "    else:\n",
        "        cnt = 0\n",
        "        for key, value in Fitness.items():\n",
        "            cnt += 1\n",
        "            Fitness_Record[f\"F{cnt}\"].extend(value)\n",
        "\n",
        "        count += 1\n",
        "else:\n",
        "    print(\"\\nGoal not reached.\")\n",
        "\n",
        "\n",
        "# example expression\n",
        "# { -3*((x)**3))+7*((y)**2)+15 }"
      ],
      "metadata": {
        "id": "thx3jk5gkJUN"
      },
      "execution_count": null,
      "outputs": []
    }
  ]
}